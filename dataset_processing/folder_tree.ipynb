{
 "cells": [
  {
   "cell_type": "code",
   "execution_count": 11,
   "metadata": {},
   "outputs": [],
   "source": [
    "import os\n",
    "import pandas as pd\n",
    "import shutil\n",
    "\n",
    "DISEASES = [\n",
    "    'Lung Opacity',\n",
    "    'Lung Lesion',\n",
    "    'Edema',\n",
    "    'Consolidation',\n",
    "    'Pneumonia',\n",
    "    'Atelectasis',\n",
    "    'Pneumothorax',\n",
    "    'Pleural Effusion',\n",
    "    'Pleural Other',\n",
    "    'Fracture',\n",
    "]\n",
    "\n",
    "COLUMNS = [\n",
    "    'Path',\n",
    "    'No Finding',\n",
    "    'Lung Opacity',\n",
    "    'Lung Lesion',\n",
    "    'Edema',\n",
    "    'Consolidation',\n",
    "    'Pneumonia',\n",
    "    'Atelectasis',\n",
    "    'Pneumothorax',\n",
    "    'Pleural Effusion',\n",
    "    'Pleural Other',\n",
    "    'Fracture',\n",
    "]\n",
    "\n",
    "DATASET_TYPES = ('train', 'validation', 'test')\n",
    "STATE_TYPES = ('Healthy', 'Sick')\n",
    "WRITE_FOLDER = '../dataset_tree'\n",
    "READ_FOLDER = '../dataset'\n"
   ]
  },
  {
   "cell_type": "code",
   "execution_count": 14,
   "metadata": {},
   "outputs": [],
   "source": [
    "# add images with healthy patients\n",
    "\n",
    "def add_healthy_patients(read_folder: str, write_folder: str) -> None:\n",
    "    if os.path.exists(write_folder):\n",
    "        shutil.rmtree(write_folder)\n",
    "    for dataset_type in DATASET_TYPES:\n",
    "        data = pd.read_csv(os.path.join(read_folder, dataset_type + '.csv'))\n",
    "        data.columns = COLUMNS\n",
    "        index = 0\n",
    "        for disease in DISEASES:\n",
    "            os.makedirs(os.path.join(\n",
    "                write_folder, dataset_type, disease, STATE_TYPES[0]))\n",
    "        for date, row in data.T.items():\n",
    "            if row['No Finding'] == 1.0:\n",
    "                for disease in DISEASES:\n",
    "                    shutil.copyfile('../' + row['Path'], os.path.join(\n",
    "                        write_folder, dataset_type, disease, STATE_TYPES[0], str(index) + '.jpg'))\n",
    "                    index += 1\n"
   ]
  },
  {
   "cell_type": "code",
   "execution_count": null,
   "metadata": {},
   "outputs": [],
   "source": [
    "# add images with sick patients\n",
    "\n",
    "def add_sick_patients(read_folder: str, write_folder: str) -> None:\n",
    "    if os.path.exists(write_folder):\n",
    "        shutil.rmtree(write_folder)\n",
    "    for dataset_type in DATASET_TYPES:\n",
    "        data = pd.read_csv(os.path.join(read_folder, dataset_type + '.csv'))\n",
    "        data.columns = COLUMNS\n",
    "        index = 0\n",
    "        for disease in DISEASES:\n",
    "            os.makedirs(os.path.join(\n",
    "                write_folder, dataset_type, disease, STATE_TYPES[1]))\n",
    "            for date, row in data.T.items():\n",
    "                if row[disease] == 1.0:\n",
    "                    shutil.copyfile('../' + row['Path'], os.path.join(\n",
    "                        write_folder, dataset_type, disease, STATE_TYPES[1], str(index) + '.jpg'))\n",
    "                    index += 1\n"
   ]
  },
  {
   "cell_type": "code",
   "execution_count": null,
   "metadata": {},
   "outputs": [],
   "source": [
    "add_healthy_patients(READ_FOLDER, WRITE_FOLDER)\n"
   ]
  },
  {
   "cell_type": "code",
   "execution_count": null,
   "metadata": {},
   "outputs": [],
   "source": [
    "add_sick_patients(READ_FOLDER, WRITE_FOLDER)\n"
   ]
  }
 ],
 "metadata": {
  "kernelspec": {
   "display_name": "Python 3.10.5 ('env': venv)",
   "language": "python",
   "name": "python3"
  },
  "language_info": {
   "codemirror_mode": {
    "name": "ipython",
    "version": 3
   },
   "file_extension": ".py",
   "mimetype": "text/x-python",
   "name": "python",
   "nbconvert_exporter": "python",
   "pygments_lexer": "ipython3",
   "version": "3.10.5"
  },
  "orig_nbformat": 4,
  "vscode": {
   "interpreter": {
    "hash": "f22acf05b00e3f625b332130f47d0c046f09e66bce98b34b409310da2d3cc959"
   }
  }
 },
 "nbformat": 4,
 "nbformat_minor": 2
}
