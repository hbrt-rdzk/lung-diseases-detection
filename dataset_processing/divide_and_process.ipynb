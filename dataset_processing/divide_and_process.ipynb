{
 "cells": [
  {
   "cell_type": "code",
   "execution_count": 48,
   "metadata": {},
   "outputs": [],
   "source": [
    "import csv\n",
    "import os\n",
    "import pandas as pd\n",
    "\n",
    "from sklearn.model_selection import train_test_split\n",
    "\n",
    "\n",
    "COLUMNS = [\n",
    "    'Path',\n",
    "    'No Finding',\n",
    "    'Lung Opacity',\n",
    "    'Lung Lesion',\n",
    "    'Edema',\n",
    "    'Consolidation',\n",
    "    'Pneumonia',\n",
    "    'Atelectasis',\n",
    "    'Pneumothorax',\n",
    "    'Pleural Effusion',\n",
    "    'Pleural Other',\n",
    "    'Fracture',\n",
    "]\n",
    "\n",
    "DATASET_TYPES = ('train', 'validation', 'test')\n"
   ]
  },
  {
   "cell_type": "code",
   "execution_count": 49,
   "metadata": {},
   "outputs": [],
   "source": [
    "def divide_dataset(csv_file: str, test_size: float = 0.2) -> dict:\n",
    "    with open(csv_file, 'r') as file:\n",
    "        reader = list(csv.reader(file))\n",
    "    info = reader.pop(0)\n",
    "    train, test = train_test_split(\n",
    "        reader, shuffle=True, test_size=test_size)\n",
    "    valid, test = train_test_split(test, shuffle=True, test_size=0.5)\n",
    "    for dataset in (train, valid, test):\n",
    "        dataset.insert(0, info)\n",
    "\n",
    "    return {\n",
    "        DATASET_TYPES[0]: train,\n",
    "        DATASET_TYPES[1]: valid,\n",
    "        DATASET_TYPES[2]: test\n",
    "    }\n"
   ]
  },
  {
   "cell_type": "code",
   "execution_count": null,
   "metadata": {},
   "outputs": [],
   "source": [
    "def process_dataset(dataset: dict) -> dict:\n",
    "    processed_datasets = {}\n",
    "    for type in DATASET_TYPES:\n",
    "        data = pd.DataFrame(dataset[type], columns=dataset[type][0])\n",
    "        data = data.replace('', '0.0')\n",
    "        data = data.replace('-1.0', '0.0')\n",
    "        data = data[COLUMNS]\n",
    "        processed_datasets[type] = data.values.tolist()\n",
    "    return processed_datasets\n"
   ]
  },
  {
   "cell_type": "code",
   "execution_count": null,
   "metadata": {},
   "outputs": [],
   "source": [
    "def save_to_directory(datasets: dict, directory: str) -> None:\n",
    "    if not os.path.exists(directory):\n",
    "        os.mkdir(directory)\n",
    "    for dataset in datasets:\n",
    "        with open(directory + '/' + dataset + '.csv', 'w') as file:\n",
    "            writer = csv.writer(file)\n",
    "            writer.writerows(datasets[dataset])\n"
   ]
  },
  {
   "cell_type": "code",
   "execution_count": null,
   "metadata": {},
   "outputs": [],
   "source": [
    "divided_dataset = divide_dataset('../CheXpert-v1.0-small/train.csv')\n"
   ]
  },
  {
   "cell_type": "code",
   "execution_count": null,
   "metadata": {},
   "outputs": [],
   "source": [
    "\n",
    "processed_dataset = process_dataset(divided_dataset)\n",
    "save_to_directory(processed_dataset, '../dataset')\n"
   ]
  }
 ],
 "metadata": {
  "kernelspec": {
   "display_name": "Python 3.10.5 ('env': venv)",
   "language": "python",
   "name": "python3"
  },
  "language_info": {
   "codemirror_mode": {
    "name": "ipython",
    "version": 3
   },
   "file_extension": ".py",
   "mimetype": "text/x-python",
   "name": "python",
   "nbconvert_exporter": "python",
   "pygments_lexer": "ipython3",
   "version": "3.10.5"
  },
  "orig_nbformat": 4,
  "vscode": {
   "interpreter": {
    "hash": "f22acf05b00e3f625b332130f47d0c046f09e66bce98b34b409310da2d3cc959"
   }
  }
 },
 "nbformat": 4,
 "nbformat_minor": 2
}
