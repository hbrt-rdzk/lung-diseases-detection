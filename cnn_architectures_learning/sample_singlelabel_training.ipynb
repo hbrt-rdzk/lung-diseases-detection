{
 "cells": [
  {
   "cell_type": "markdown",
   "metadata": {},
   "source": [
    "# Learning process\n"
   ]
  },
  {
   "cell_type": "code",
   "execution_count": 15,
   "metadata": {},
   "outputs": [],
   "source": [
    "import tensorflow as tf\n",
    "import matplotlib.pyplot as plt\n",
    "\n",
    "from keras import applications, optimizers, callbacks\n"
   ]
  },
  {
   "cell_type": "code",
   "execution_count": null,
   "metadata": {},
   "outputs": [],
   "source": [
    "train_ds = tf.keras.utils.image_dataset_from_directory(\n",
    "    \"../dataset_tree/train/Atelectasis\", image_size=(224, 224), color_mode='rgb', batch_size=32)\n",
    "val_ds = tf.keras.utils.image_dataset_from_directory(\n",
    "    \"../dataset_tree/validation/Atelectasis\", image_size=(224, 224), color_mode='rgb', batch_size=32)\n",
    "test_ds = tf.keras.utils.image_dataset_from_directory(\n",
    "    \"../dataset_tree/test/Atelectasis\", image_size=(224, 224), color_mode='rgb', batch_size=32)\n"
   ]
  },
  {
   "cell_type": "code",
   "execution_count": null,
   "metadata": {},
   "outputs": [],
   "source": [
    "input = (224, 224, 3)\n",
    "models = {\n",
    "    'VGG16': applications.VGG16(input_shape=input),\n",
    "    'ResNet50': applications.ResNet50(input_shape=input),\n",
    "    'DenseNet121': applications.DenseNet121(input_shape=input)\n",
    "}\n",
    "lr = 1e-4\n",
    "opt = optimizers.SGD(learning_rate=lr)\n",
    "epochs = 20\n",
    "loss = 'sparse_categorical_crossentropy'\n",
    "metrics = ['accuracy']\n"
   ]
  },
  {
   "cell_type": "code",
   "execution_count": 12,
   "metadata": {},
   "outputs": [],
   "source": [
    "for model in models.values():\n",
    "    model.compile(loss=loss, optimizer=opt, metrics=metrics)\n"
   ]
  },
  {
   "cell_type": "code",
   "execution_count": null,
   "metadata": {},
   "outputs": [],
   "source": [
    "checkpoint = callbacks.ModelCheckpoint(\n",
    "    filepath='VGG16_model.{epoch:02d}-{val_loss:.2f}.hdf5',\n",
    "    monitor='val_accuracy',\n",
    "    verbose=0,\n",
    "    save_best_only=True,\n",
    "    save_weights_only=False,\n",
    "    mode='max'\n",
    ")\n"
   ]
  },
  {
   "cell_type": "code",
   "execution_count": null,
   "metadata": {},
   "outputs": [],
   "source": [
    "with tf.device('/GPU:0'):\n",
    "    history = models['VGG16'].fit(\n",
    "        train_ds, validation_data=val_ds, epochs=epochs, callbacks=[checkpoint])\n"
   ]
  },
  {
   "cell_type": "markdown",
   "metadata": {},
   "source": [
    "# Plot history\n"
   ]
  },
  {
   "cell_type": "code",
   "execution_count": null,
   "metadata": {},
   "outputs": [],
   "source": [
    "plt.plot(history.history['accuracy'])\n",
    "plt.plot(history.history['val_accuracy'])\n",
    "plt.title('Model Accuracy')\n",
    "plt.ylabel('Accuracy')\n",
    "plt.xlabel('Epoch')\n",
    "plt.legend(['train', 'valid'], loc='upper left')\n",
    "plt.show()\n"
   ]
  }
 ],
 "metadata": {
  "kernelspec": {
   "display_name": "lung-diseases-detection",
   "language": "python",
   "name": "lung-diseases-detection"
  },
  "language_info": {
   "codemirror_mode": {
    "name": "ipython",
    "version": 3
   },
   "file_extension": ".py",
   "mimetype": "text/x-python",
   "name": "python",
   "nbconvert_exporter": "python",
   "pygments_lexer": "ipython3",
   "version": "3.10.5"
  },
  "orig_nbformat": 4,
  "vscode": {
   "interpreter": {
    "hash": "1a1af0ee75eeea9e2e1ee996c87e7a2b11a0bebd85af04bb136d915cefc0abce"
   }
  }
 },
 "nbformat": 4,
 "nbformat_minor": 2
}
