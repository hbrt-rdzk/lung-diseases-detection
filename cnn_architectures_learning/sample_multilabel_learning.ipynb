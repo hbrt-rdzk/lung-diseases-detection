{
 "cells": [
  {
   "cell_type": "markdown",
   "metadata": {},
   "source": [
    "# Learning process\n"
   ]
  },
  {
   "cell_type": "code",
   "execution_count": null,
   "metadata": {},
   "outputs": [],
   "source": [
    "import pandas as pd\n",
    "import numpy as np\n",
    "import tensorflow as tf\n",
    "import matplotlib.pyplot as plt\n",
    "\n",
    "from keras import optimizers, applications, callbacks\n",
    "from tensorflow.keras.preprocessing.image import ImageDataGenerator\n",
    "from sklearn.metrics import classification_report, multilabel_confusion_matrix, roc_auc_score, roc_curve\n"
   ]
  },
  {
   "cell_type": "code",
   "execution_count": null,
   "metadata": {},
   "outputs": [],
   "source": [
    "column_types = {\n",
    "    'Path': str,\n",
    "    'No Finding': np.float32,\n",
    "    'Lung Opacity': np.float32,\n",
    "    'Lung Lesion': np.float32,\n",
    "    'Edema': np.float32,\n",
    "    'Consolidation': np.float32,\n",
    "    'Pneumonia': np.float32,\n",
    "    'Atelectasis': np.float32,\n",
    "    'Pneumothorax': np.float32,\n",
    "    'Pleural Effusion': np.float32,\n",
    "    'Pleural Other': np.float32,\n",
    "    'Fracture': np.float32\n",
    "}\n",
    "\n",
    "train_df = pd.read_csv(\n",
    "    filepath_or_buffer='../dataset/train.csv', dtype=column_types)\n",
    "\n",
    "val_df = pd.read_csv(\n",
    "    filepath_or_buffer='../dataset/validation.csv', dtype=column_types)\n",
    "\n",
    "test_df = pd.read_csv(\n",
    "    filepath_or_buffer='../dataset/test.csv', dtype=column_types)\n"
   ]
  },
  {
   "cell_type": "code",
   "execution_count": null,
   "metadata": {},
   "outputs": [],
   "source": [
    "train_df.columns = column_types.keys()\n",
    "val_df.columns = column_types.keys()\n",
    "test_df.columns = column_types.keys()\n"
   ]
  },
  {
   "cell_type": "code",
   "execution_count": null,
   "metadata": {},
   "outputs": [],
   "source": [
    "list_columns = list(train_df.columns)\n",
    "y_cols = list_columns[1::]\n",
    "\n",
    "train_datagen = ImageDataGenerator().flow_from_dataframe(\n",
    "    dataframe=train_df,\n",
    "    directory='..',\n",
    "    x_col='Path',\n",
    "    y_col=y_cols,\n",
    "    validate_filenames=False,\n",
    "    target_size=(224, 224),\n",
    "    color_mode='rgb',\n",
    "    class_mode='raw',\n",
    "    batch_size=20,\n",
    ")\n",
    "\n",
    "val_datagen = ImageDataGenerator().flow_from_dataframe(\n",
    "    dataframe=val_df,\n",
    "    directory='..',\n",
    "    x_col='Path',\n",
    "    y_col=y_cols,\n",
    "    validate_filenames=False,\n",
    "    target_size=(224, 224),\n",
    "    color_mode='rgb',\n",
    "    class_mode='raw',\n",
    "    batch_size=20,\n",
    ")\n",
    "\n",
    "test_datagen = ImageDataGenerator().flow_from_dataframe(\n",
    "    dataframe=test_df,\n",
    "    directory='..',\n",
    "    x_col='Path',\n",
    "    y_col=y_cols,\n",
    "    validate_filenames=False,\n",
    "    target_size=(224, 224),\n",
    "    color_mode='rgb',\n",
    "    class_mode='raw',\n",
    "    batch_size=20,\n",
    ")\n"
   ]
  },
  {
   "cell_type": "code",
   "execution_count": null,
   "metadata": {},
   "outputs": [],
   "source": [
    "input = (224, 224, 3)\n",
    "models = {\n",
    "    'VGG16': applications.VGG16(input_shape=input, classes=11, weights=None),\n",
    "    'ResNet50': applications.ResNet50(input_shape=input, classes=11, weights=None),\n",
    "    'DenseNet121': applications.DenseNet121(input_shape=input, classes=11, weights=None)\n",
    "}\n",
    "lr = 1e-5\n",
    "opt = optimizers.Adam(learning_rate=lr)\n",
    "epochs = 15\n",
    "loss = 'binary_crossentropy'\n",
    "metrics = ['accuracy', 'binary_accuracy']\n"
   ]
  },
  {
   "cell_type": "code",
   "execution_count": null,
   "metadata": {},
   "outputs": [],
   "source": [
    "for model in models.values():\n",
    "    model.compile(loss=loss, optimizer=opt, metrics=metrics)\n"
   ]
  },
  {
   "cell_type": "code",
   "execution_count": null,
   "metadata": {},
   "outputs": [],
   "source": [
    "checkpoint = callbacks.ModelCheckpoint(\n",
    "    filepath='VGG16_model.{epoch:02d}-{val_loss:.2f}.hdf5',\n",
    "    monitor='val_accuracy',\n",
    "    verbose=0,\n",
    "    save_best_only=True,\n",
    "    save_weights_only=False,\n",
    "    mode='max'\n",
    ")\n"
   ]
  },
  {
   "cell_type": "code",
   "execution_count": null,
   "metadata": {},
   "outputs": [],
   "source": [
    "with tf.device('/GPU:0'):\n",
    "    history_res = models['VGG16'].fit(\n",
    "        train_datagen,\n",
    "        validation_data=val_datagen,\n",
    "        epochs=epochs,\n",
    "        callbacks=[checkpoint]\n",
    "    )\n"
   ]
  },
  {
   "cell_type": "markdown",
   "metadata": {},
   "source": [
    "# ROC curve\n"
   ]
  },
  {
   "cell_type": "code",
   "execution_count": null,
   "metadata": {},
   "outputs": [],
   "source": [
    "predictions = models['VGG16'].predict(\n",
    "    x=test_datagen,\n",
    "    steps=len(test_datagen),\n",
    "    workers=1,\n",
    "    verbose=1\n",
    ")\n"
   ]
  },
  {
   "cell_type": "code",
   "execution_count": null,
   "metadata": {},
   "outputs": [],
   "source": [
    "predictions = (predictions >= 0.5).astype(np.uint8)\n"
   ]
  },
  {
   "cell_type": "code",
   "execution_count": null,
   "metadata": {},
   "outputs": [],
   "source": [
    "report = classification_report(\n",
    "    y_true=test_datagen.labels,\n",
    "    y_pred=predictions,\n",
    "    digits=4,\n",
    "    target_names=y_cols\n",
    ")\n"
   ]
  },
  {
   "cell_type": "code",
   "execution_count": null,
   "metadata": {},
   "outputs": [],
   "source": [
    "confusion_matrix = multilabel_confusion_matrix(\n",
    "    y_true=test_datagen.labels,\n",
    "    y_pred=predictions\n",
    ")\n"
   ]
  },
  {
   "cell_type": "code",
   "execution_count": null,
   "metadata": {},
   "outputs": [],
   "source": [
    "auc_roc_values = []\n",
    "\n",
    "for i in range(len(y_cols)):\n",
    "    y_true = test_datagen.y_cols[:, i]\n",
    "    y_pred = predictions[:, i]\n",
    "\n",
    "    auc_roc = roc_auc_score(y_true=y_true, y_score=y_pred)\n",
    "    auc_roc_values.append(auc_roc)\n",
    "\n",
    "    false_positive_rates, true_positive_rates, _ = roc_curve(\n",
    "        y_true=y_true, y_score=y_pred)\n",
    "\n",
    "    plt.figure(1, figsize=(13, 13))\n",
    "    plt.plot([0, 1], [0, 1], 'k--')\n",
    "    plt.plot(\n",
    "        false_positive_rates,\n",
    "        true_positive_rates,\n",
    "        label=y_cols[i] + \" (\" + str(round(auc_roc, 4)) + \")\"\n",
    "    )\n",
    "    plt.xlabel('False positive rate')\n",
    "    plt.ylabel('True positive rate')\n",
    "    plt.title('VGG-16')\n",
    "    plt.legend(loc='best')\n",
    "\n",
    "plt.show()\n"
   ]
  }
 ],
 "metadata": {
  "kernelspec": {
   "display_name": "lung-diseases-detection",
   "language": "python",
   "name": "lung-diseases-detection"
  },
  "language_info": {
   "codemirror_mode": {
    "name": "ipython",
    "version": 3
   },
   "file_extension": ".py",
   "mimetype": "text/x-python",
   "name": "python",
   "nbconvert_exporter": "python",
   "pygments_lexer": "ipython3",
   "version": "3.10.5"
  },
  "orig_nbformat": 4,
  "vscode": {
   "interpreter": {
    "hash": "1a1af0ee75eeea9e2e1ee996c87e7a2b11a0bebd85af04bb136d915cefc0abce"
   }
  }
 },
 "nbformat": 4,
 "nbformat_minor": 2
}
